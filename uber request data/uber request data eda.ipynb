{
 "cells": [
  {
   "cell_type": "code",
   "execution_count": 2,
   "id": "d702e66f",
   "metadata": {},
   "outputs": [],
   "source": [
    "import pandas as pd\n",
    "import numpy as np\n",
    "import matplotlib.pyplot as plt"
   ]
  },
  {
   "cell_type": "code",
   "execution_count": 3,
   "id": "288b31df",
   "metadata": {},
   "outputs": [],
   "source": [
    "data = pd.read_csv(\"C:\\\\Users\\\\Jomin\\\\Machine Learning\\\\uber request data\\\\Uber Request Data.csv\")"
   ]
  },
  {
   "cell_type": "code",
   "execution_count": 4,
   "id": "0c34f10c",
   "metadata": {},
   "outputs": [
    {
     "data": {
      "text/html": [
       "<div>\n",
       "<style scoped>\n",
       "    .dataframe tbody tr th:only-of-type {\n",
       "        vertical-align: middle;\n",
       "    }\n",
       "\n",
       "    .dataframe tbody tr th {\n",
       "        vertical-align: top;\n",
       "    }\n",
       "\n",
       "    .dataframe thead th {\n",
       "        text-align: right;\n",
       "    }\n",
       "</style>\n",
       "<table border=\"1\" class=\"dataframe\">\n",
       "  <thead>\n",
       "    <tr style=\"text-align: right;\">\n",
       "      <th></th>\n",
       "      <th>Request id</th>\n",
       "      <th>Pickup point</th>\n",
       "      <th>Driver id</th>\n",
       "      <th>Status</th>\n",
       "      <th>Request timestamp</th>\n",
       "      <th>Drop timestamp</th>\n",
       "    </tr>\n",
       "  </thead>\n",
       "  <tbody>\n",
       "    <tr>\n",
       "      <th>0</th>\n",
       "      <td>619</td>\n",
       "      <td>Airport</td>\n",
       "      <td>1.0</td>\n",
       "      <td>Trip Completed</td>\n",
       "      <td>11/7/2016 11:51</td>\n",
       "      <td>11/7/2016 13:00</td>\n",
       "    </tr>\n",
       "    <tr>\n",
       "      <th>1</th>\n",
       "      <td>867</td>\n",
       "      <td>Airport</td>\n",
       "      <td>1.0</td>\n",
       "      <td>Trip Completed</td>\n",
       "      <td>11/7/2016 17:57</td>\n",
       "      <td>11/7/2016 18:47</td>\n",
       "    </tr>\n",
       "    <tr>\n",
       "      <th>2</th>\n",
       "      <td>1807</td>\n",
       "      <td>City</td>\n",
       "      <td>1.0</td>\n",
       "      <td>Trip Completed</td>\n",
       "      <td>12/7/2016 9:17</td>\n",
       "      <td>12/7/2016 9:58</td>\n",
       "    </tr>\n",
       "    <tr>\n",
       "      <th>3</th>\n",
       "      <td>2532</td>\n",
       "      <td>Airport</td>\n",
       "      <td>1.0</td>\n",
       "      <td>Trip Completed</td>\n",
       "      <td>12/7/2016 21:08</td>\n",
       "      <td>12/7/2016 22:03</td>\n",
       "    </tr>\n",
       "    <tr>\n",
       "      <th>4</th>\n",
       "      <td>3112</td>\n",
       "      <td>City</td>\n",
       "      <td>1.0</td>\n",
       "      <td>Trip Completed</td>\n",
       "      <td>13-07-2016 08:33:16</td>\n",
       "      <td>13-07-2016 09:25:47</td>\n",
       "    </tr>\n",
       "  </tbody>\n",
       "</table>\n",
       "</div>"
      ],
      "text/plain": [
       "   Request id Pickup point  Driver id          Status    Request timestamp  \\\n",
       "0         619      Airport        1.0  Trip Completed      11/7/2016 11:51   \n",
       "1         867      Airport        1.0  Trip Completed      11/7/2016 17:57   \n",
       "2        1807         City        1.0  Trip Completed       12/7/2016 9:17   \n",
       "3        2532      Airport        1.0  Trip Completed      12/7/2016 21:08   \n",
       "4        3112         City        1.0  Trip Completed  13-07-2016 08:33:16   \n",
       "\n",
       "        Drop timestamp  \n",
       "0      11/7/2016 13:00  \n",
       "1      11/7/2016 18:47  \n",
       "2       12/7/2016 9:58  \n",
       "3      12/7/2016 22:03  \n",
       "4  13-07-2016 09:25:47  "
      ]
     },
     "execution_count": 4,
     "metadata": {},
     "output_type": "execute_result"
    }
   ],
   "source": [
    "data.head()"
   ]
  },
  {
   "cell_type": "code",
   "execution_count": 5,
   "id": "24857b99",
   "metadata": {},
   "outputs": [
    {
     "data": {
      "text/html": [
       "<div>\n",
       "<style scoped>\n",
       "    .dataframe tbody tr th:only-of-type {\n",
       "        vertical-align: middle;\n",
       "    }\n",
       "\n",
       "    .dataframe tbody tr th {\n",
       "        vertical-align: top;\n",
       "    }\n",
       "\n",
       "    .dataframe thead th {\n",
       "        text-align: right;\n",
       "    }\n",
       "</style>\n",
       "<table border=\"1\" class=\"dataframe\">\n",
       "  <thead>\n",
       "    <tr style=\"text-align: right;\">\n",
       "      <th></th>\n",
       "      <th>Request id</th>\n",
       "      <th>Pickup point</th>\n",
       "      <th>Driver id</th>\n",
       "      <th>Status</th>\n",
       "      <th>Request timestamp</th>\n",
       "      <th>Drop timestamp</th>\n",
       "    </tr>\n",
       "  </thead>\n",
       "  <tbody>\n",
       "    <tr>\n",
       "      <th>6740</th>\n",
       "      <td>6745</td>\n",
       "      <td>City</td>\n",
       "      <td>NaN</td>\n",
       "      <td>No Cars Available</td>\n",
       "      <td>15-07-2016 23:49:03</td>\n",
       "      <td>NaN</td>\n",
       "    </tr>\n",
       "    <tr>\n",
       "      <th>6741</th>\n",
       "      <td>6752</td>\n",
       "      <td>Airport</td>\n",
       "      <td>NaN</td>\n",
       "      <td>No Cars Available</td>\n",
       "      <td>15-07-2016 23:50:05</td>\n",
       "      <td>NaN</td>\n",
       "    </tr>\n",
       "    <tr>\n",
       "      <th>6742</th>\n",
       "      <td>6751</td>\n",
       "      <td>City</td>\n",
       "      <td>NaN</td>\n",
       "      <td>No Cars Available</td>\n",
       "      <td>15-07-2016 23:52:06</td>\n",
       "      <td>NaN</td>\n",
       "    </tr>\n",
       "    <tr>\n",
       "      <th>6743</th>\n",
       "      <td>6754</td>\n",
       "      <td>City</td>\n",
       "      <td>NaN</td>\n",
       "      <td>No Cars Available</td>\n",
       "      <td>15-07-2016 23:54:39</td>\n",
       "      <td>NaN</td>\n",
       "    </tr>\n",
       "    <tr>\n",
       "      <th>6744</th>\n",
       "      <td>6753</td>\n",
       "      <td>Airport</td>\n",
       "      <td>NaN</td>\n",
       "      <td>No Cars Available</td>\n",
       "      <td>15-07-2016 23:55:03</td>\n",
       "      <td>NaN</td>\n",
       "    </tr>\n",
       "  </tbody>\n",
       "</table>\n",
       "</div>"
      ],
      "text/plain": [
       "      Request id Pickup point  Driver id             Status  \\\n",
       "6740        6745         City        NaN  No Cars Available   \n",
       "6741        6752      Airport        NaN  No Cars Available   \n",
       "6742        6751         City        NaN  No Cars Available   \n",
       "6743        6754         City        NaN  No Cars Available   \n",
       "6744        6753      Airport        NaN  No Cars Available   \n",
       "\n",
       "        Request timestamp Drop timestamp  \n",
       "6740  15-07-2016 23:49:03            NaN  \n",
       "6741  15-07-2016 23:50:05            NaN  \n",
       "6742  15-07-2016 23:52:06            NaN  \n",
       "6743  15-07-2016 23:54:39            NaN  \n",
       "6744  15-07-2016 23:55:03            NaN  "
      ]
     },
     "execution_count": 5,
     "metadata": {},
     "output_type": "execute_result"
    }
   ],
   "source": [
    "data.tail()"
   ]
  },
  {
   "cell_type": "code",
   "execution_count": 3,
   "id": "13ebe054",
   "metadata": {},
   "outputs": [
    {
     "name": "stdout",
     "output_type": "stream",
     "text": [
      "(6745, 6)\n"
     ]
    }
   ],
   "source": [
    "print(data.shape)"
   ]
  },
  {
   "cell_type": "code",
   "execution_count": 4,
   "id": "a86f3316",
   "metadata": {},
   "outputs": [],
   "source": [
    "data.columns = ['Request_ID','Pickup_Point','Driver_ID','Status','Request_Timestamp','Drop_Timestamp']"
   ]
  },
  {
   "cell_type": "code",
   "execution_count": 5,
   "id": "182afdf3",
   "metadata": {},
   "outputs": [],
   "source": [
    "data[\"Request_Timestamp\"] = pd.to_datetime(data[\"Request_Timestamp\"])"
   ]
  },
  {
   "cell_type": "code",
   "execution_count": 6,
   "id": "fa7f36bf",
   "metadata": {},
   "outputs": [],
   "source": [
    "data[\"Request_Hour\"] = data[\"Request_Timestamp\"].dt.hour"
   ]
  },
  {
   "cell_type": "code",
   "execution_count": 7,
   "id": "7d0954ef",
   "metadata": {},
   "outputs": [],
   "source": [
    "data[\"Drop_Timestamp\"] = pd.to_datetime(data[\"Drop_Timestamp\"])"
   ]
  },
  {
   "cell_type": "code",
   "execution_count": 8,
   "id": "dafd5e75",
   "metadata": {},
   "outputs": [],
   "source": [
    "data[\"Drop_Hour\"] = data[\"Drop_Timestamp\"].dt.hour"
   ]
  },
  {
   "cell_type": "code",
   "execution_count": 9,
   "id": "d9725658",
   "metadata": {},
   "outputs": [],
   "source": [
    "data.drop(['Request_Timestamp', 'Drop_Timestamp'], axis='columns', inplace=True)"
   ]
  },
  {
   "cell_type": "code",
   "execution_count": 10,
   "id": "fdc76cf8",
   "metadata": {},
   "outputs": [
    {
     "name": "stdout",
     "output_type": "stream",
     "text": [
      "      Request_ID Pickup_Point  Driver_ID             Status  Request_Hour  \\\n",
      "0            619      Airport        1.0     Trip Completed            11   \n",
      "1            867      Airport        1.0     Trip Completed            17   \n",
      "2           1807         City        1.0     Trip Completed             9   \n",
      "3           2532      Airport        1.0     Trip Completed            21   \n",
      "4           3112         City        1.0     Trip Completed             8   \n",
      "...          ...          ...        ...                ...           ...   \n",
      "6740        6745         City        NaN  No Cars Available            23   \n",
      "6741        6752      Airport        NaN  No Cars Available            23   \n",
      "6742        6751         City        NaN  No Cars Available            23   \n",
      "6743        6754         City        NaN  No Cars Available            23   \n",
      "6744        6753      Airport        NaN  No Cars Available            23   \n",
      "\n",
      "      Drop_Hour  \n",
      "0          13.0  \n",
      "1          18.0  \n",
      "2           9.0  \n",
      "3          22.0  \n",
      "4           9.0  \n",
      "...         ...  \n",
      "6740        NaN  \n",
      "6741        NaN  \n",
      "6742        NaN  \n",
      "6743        NaN  \n",
      "6744        NaN  \n",
      "\n",
      "[6745 rows x 6 columns]\n"
     ]
    }
   ],
   "source": [
    "print(data)"
   ]
  },
  {
   "cell_type": "code",
   "execution_count": 11,
   "id": "b0b1b5b1",
   "metadata": {},
   "outputs": [],
   "source": [
    "cancelled_trips = data[data['Status'] == 'Cancelled']"
   ]
  },
  {
   "cell_type": "code",
   "execution_count": 12,
   "id": "f633c7c1",
   "metadata": {},
   "outputs": [
    {
     "name": "stdout",
     "output_type": "stream",
     "text": [
      "(1264, 6)\n"
     ]
    }
   ],
   "source": [
    "print(cancelled_trips.shape)"
   ]
  },
  {
   "cell_type": "code",
   "execution_count": 13,
   "id": "e5b672b5",
   "metadata": {},
   "outputs": [],
   "source": [
    "no_cars_available = data[data['Status'] == 'No Cars Available']"
   ]
  },
  {
   "cell_type": "code",
   "execution_count": 14,
   "id": "11bd1e2e",
   "metadata": {},
   "outputs": [
    {
     "name": "stdout",
     "output_type": "stream",
     "text": [
      "(2650, 6)\n"
     ]
    }
   ],
   "source": [
    "print(no_cars_available.shape)"
   ]
  },
  {
   "cell_type": "code",
   "execution_count": 15,
   "id": "a1e99e80",
   "metadata": {},
   "outputs": [],
   "source": [
    "completed_trips = data[data['Status'] == 'Trip Completed']"
   ]
  },
  {
   "cell_type": "code",
   "execution_count": 16,
   "id": "7f8e5a10",
   "metadata": {},
   "outputs": [
    {
     "name": "stdout",
     "output_type": "stream",
     "text": [
      "(2831, 6)\n"
     ]
    }
   ],
   "source": [
    "print(completed_trips.shape)"
   ]
  },
  {
   "cell_type": "code",
   "execution_count": 17,
   "id": "b9f9fa57",
   "metadata": {},
   "outputs": [
    {
     "name": "stdout",
     "output_type": "stream",
     "text": [
      "Series([], dtype: int64)\n"
     ]
    }
   ],
   "source": [
    "print(cancelled_trips.value_counts())"
   ]
  },
  {
   "cell_type": "code",
   "execution_count": 18,
   "id": "a1877f0b",
   "metadata": {},
   "outputs": [],
   "source": [
    "y = np.array([1264, 2650, 2831])"
   ]
  },
  {
   "cell_type": "code",
   "execution_count": 21,
   "id": "a2347ce7",
   "metadata": {},
   "outputs": [],
   "source": [
    "statuslabels = [\"Cancelled\", \"No Cars Available\", \"Trip Completed\"]"
   ]
  },
  {
   "cell_type": "code",
   "execution_count": 22,
   "id": "1a812dd3",
   "metadata": {},
   "outputs": [
    {
     "data": {
      "text/plain": [
       "([<matplotlib.patches.Wedge at 0x199673ba6a0>,\n",
       "  <matplotlib.patches.Wedge at 0x199673baeb0>,\n",
       "  <matplotlib.patches.Wedge at 0x199673ca610>],\n",
       " [Text(0.9148122117335421, 0.6108343615606321, 'Cancelled'),\n",
       "  Text(-0.8197978372292601, 0.7334381405914392, 'No Cars Available'),\n",
       "  Text(0.27450168572516787, -1.0651989600699212, 'Trip Completed')],\n",
       " [Text(0.49898847912738653, 0.333182379033072, '18.74%'),\n",
       "  Text(-0.44716245667050547, 0.40005716759533044, '39.29%'),\n",
       "  Text(0.1497281922137279, -0.5810176145835932, '41.97%')])"
      ]
     },
     "execution_count": 22,
     "metadata": {},
     "output_type": "execute_result"
    },
    {
     "data": {
      "image/png": "[encoded data removed]",
      "text/plain": [
       "<Figure size 432x288 with 1 Axes>"
      ]
     },
     "metadata": {},
     "output_type": "display_data"
    }
   ],
   "source": [
    "plt.pie(y, labels = statuslabels, autopct = '%2.2f%%')"
   ]
  },
  {
   "cell_type": "code",
   "execution_count": 23,
   "id": "00421dfc",
   "metadata": {},
   "outputs": [],
   "source": [
    "x = [\"Supply\", \"Demand\"]"
   ]
  },
  {
   "cell_type": "code",
   "execution_count": 24,
   "id": "581128ed",
   "metadata": {},
   "outputs": [],
   "source": [
    "y = np.array([2831, 6745])"
   ]
  },
  {
   "cell_type": "code",
   "execution_count": 25,
   "id": "d39d0129",
   "metadata": {},
   "outputs": [
    {
     "data": {
      "text/plain": [
       "([<matplotlib.patches.Wedge at 0x199674de8b0>,\n",
       "  <matplotlib.patches.Wedge at 0x199674defd0>],\n",
       " [Text(0.6587063113848798, 0.8809687822742223, 'Supply'),\n",
       "  Text(-0.6587063113848801, -0.8809687822742219, 'Demand')],\n",
       " [Text(0.3592943516644798, 0.48052842669503026, '29.56%'),\n",
       "  Text(-0.35929435166448004, -0.4805284266950301, '70.44%')])"
      ]
     },
     "execution_count": 25,
     "metadata": {},
     "output_type": "execute_result"
    },
    {
     "data": {
      "image/png": "[encoded data removed]",
      "text/plain": [
       "<Figure size 432x288 with 1 Axes>"
      ]
     },
     "metadata": {},
     "output_type": "display_data"
    }
   ],
   "source": [
    "plt.pie(y, labels = x, autopct = '%2.2f%%')"
   ]
  },
  {
   "cell_type": "code",
   "execution_count": 26,
   "id": "7a05dc02",
   "metadata": {},
   "outputs": [],
   "source": [
    "cancelled_hour = cancelled_trips['Request_Hour'].tolist()"
   ]
  },
  {
   "cell_type": "code",
   "execution_count": 27,
   "id": "1c54cba1",
   "metadata": {},
   "outputs": [],
   "source": [
    "notavailable_hour = no_cars_available['Request_Hour'].tolist()"
   ]
  },
  {
   "cell_type": "code",
   "execution_count": 28,
   "id": "e05995a9",
   "metadata": {},
   "outputs": [],
   "source": [
    "range = (0, 23)"
   ]
  },
  {
   "cell_type": "code",
   "execution_count": 29,
   "id": "907d967f",
   "metadata": {},
   "outputs": [],
   "source": [
    "bins = 24"
   ]
  },
  {
   "cell_type": "code",
   "execution_count": 30,
   "id": "c168ab18",
   "metadata": {},
   "outputs": [],
   "source": [
    "def plots(q):\n",
    "    plt.hist(q, bins, range, color = 'green', histtype = 'bar', rwidth = 0.8)\n",
    "    plt.xlabel('Time Slots')\n",
    "    plt.ylabel(\"Number of Trips\")"
   ]
  },
  {
   "cell_type": "code",
   "execution_count": 31,
   "id": "5e4d832d",
   "metadata": {},
   "outputs": [
    {
     "data": {
      "image/png": "[encoded data removed]",
      "text/plain": [
       "<Figure size 432x288 with 1 Axes>"
      ]
     },
     "metadata": {
      "needs_background": "light"
     },
     "output_type": "display_data"
    }
   ],
   "source": [
    "plots(cancelled_hour)"
   ]
  },
  {
   "cell_type": "code",
   "execution_count": 32,
   "id": "cac750cd",
   "metadata": {},
   "outputs": [
    {
     "data": {
      "image/png": "[encoded data removed]",
      "text/plain": [
       "<Figure size 432x288 with 1 Axes>"
      ]
     },
     "metadata": {
      "needs_background": "light"
     },
     "output_type": "display_data"
    }
   ],
   "source": [
    "plots(notavailable_hour)"
   ]
  },
  {
   "cell_type": "code",
   "execution_count": 33,
   "id": "07380a48",
   "metadata": {},
   "outputs": [],
   "source": [
    "city_to_airport = data[(data.Status != 'Trip Completed') & (data.Pickup_Point == 'City')]"
   ]
  },
  {
   "cell_type": "code",
   "execution_count": 34,
   "id": "7b2fe076",
   "metadata": {},
   "outputs": [
    {
     "name": "stdout",
     "output_type": "stream",
     "text": [
      "(2003, 6)\n"
     ]
    }
   ],
   "source": [
    "print(city_to_airport.shape)"
   ]
  },
  {
   "cell_type": "code",
   "execution_count": 35,
   "id": "08ffd7cf",
   "metadata": {},
   "outputs": [],
   "source": [
    "airport_to_city = data[(data.Status != 'Trip Completed') & (data.Pickup_Point == 'Airport')]"
   ]
  },
  {
   "cell_type": "code",
   "execution_count": 36,
   "id": "40b93efa",
   "metadata": {},
   "outputs": [
    {
     "name": "stdout",
     "output_type": "stream",
     "text": [
      "(1911, 6)\n"
     ]
    }
   ],
   "source": [
    "print(airport_to_city.shape)"
   ]
  },
  {
   "cell_type": "code",
   "execution_count": 37,
   "id": "10416222",
   "metadata": {},
   "outputs": [],
   "source": [
    "p = [\"Failed Trips from Airport to City\", \"Failed Trips from City to Airport\"]"
   ]
  },
  {
   "cell_type": "code",
   "execution_count": 38,
   "id": "bd422c73",
   "metadata": {},
   "outputs": [],
   "source": [
    "q = np.array([1911, 2003])"
   ]
  },
  {
   "cell_type": "code",
   "execution_count": 42,
   "id": "be0e072d",
   "metadata": {},
   "outputs": [
    {
     "data": {
      "text/plain": [
       "([<matplotlib.patches.Wedge at 0x19968696430>,\n",
       "  <matplotlib.patches.Wedge at 0x19968696bb0>],\n",
       " [Text(0.04060517048133803, 1.0992502991267192, 'Failed Trips from Airport to City'),\n",
       "  Text(-0.04060527340057912, -1.0992502953249839, 'Failed Trips from City to Airport')],\n",
       " [Text(0.022148274808002556, 0.5995910722509377, '48.82%'),\n",
       "  Text(-0.022148330945770428, -0.5995910701772639, '51.18%')])"
      ]
     },
     "execution_count": 42,
     "metadata": {},
     "output_type": "execute_result"
    },
    {
     "data": {
      "image/png": "[encoded data removed]",
      "text/plain": [
       "<Figure size 432x288 with 1 Axes>"
      ]
     },
     "metadata": {},
     "output_type": "display_data"
    }
   ],
   "source": [
    "plt.pie(q, labels = p, autopct = '%2.2f%%')"
   ]
  },
  {
   "cell_type": "code",
   "execution_count": 44,
   "id": "974b3c38",
   "metadata": {},
   "outputs": [],
   "source": [
    "city_to_airport_cancelled = data[(data.Status == 'Cancelled') & (data.Pickup_Point == 'City')]"
   ]
  },
  {
   "cell_type": "code",
   "execution_count": 45,
   "id": "7aab4841",
   "metadata": {},
   "outputs": [],
   "source": [
    "city_to_airport_not_available = data[(data.Status == 'No Cars Available') & (data.Pickup_Point == 'City')]"
   ]
  },
  {
   "cell_type": "code",
   "execution_count": 46,
   "id": "aff9c182",
   "metadata": {},
   "outputs": [],
   "source": [
    "airport_to_city_cancelled = data[(data.Status == 'Cancelled') & (data.Pickup_Point == 'Airport')]"
   ]
  },
  {
   "cell_type": "code",
   "execution_count": 47,
   "id": "e1b7793f",
   "metadata": {},
   "outputs": [],
   "source": [
    "airport_to_city_not_available = data[(data.Status == 'No Cars Available') & (data.Pickup_Point == 'Airport')]"
   ]
  },
  {
   "cell_type": "code",
   "execution_count": 48,
   "id": "43953985",
   "metadata": {},
   "outputs": [],
   "source": [
    "city_to_airport_cancelled_hour = city_to_airport_cancelled['Request_Hour'].tolist()"
   ]
  },
  {
   "cell_type": "code",
   "execution_count": 49,
   "id": "c8e50484",
   "metadata": {},
   "outputs": [
    {
     "data": {
      "image/png": "[encoded data removed]",
      "text/plain": [
       "<Figure size 432x288 with 1 Axes>"
      ]
     },
     "metadata": {
      "needs_background": "light"
     },
     "output_type": "display_data"
    }
   ],
   "source": [
    "plots(city_to_airport_cancelled_hour)"
   ]
  },
  {
   "cell_type": "code",
   "execution_count": 50,
   "id": "0d0a7772",
   "metadata": {},
   "outputs": [],
   "source": [
    "city_to_airport_not_available_hour = city_to_airport_not_available['Request_Hour'].tolist()"
   ]
  },
  {
   "cell_type": "code",
   "execution_count": 51,
   "id": "77d38480",
   "metadata": {},
   "outputs": [
    {
     "data": {
      "image/png": "[encoded data removed]",
      "text/plain": [
       "<Figure size 432x288 with 1 Axes>"
      ]
     },
     "metadata": {
      "needs_background": "light"
     },
     "output_type": "display_data"
    }
   ],
   "source": [
    "plots(city_to_airport_not_available_hour)"
   ]
  },
  {
   "cell_type": "code",
   "execution_count": 52,
   "id": "eea231fc",
   "metadata": {},
   "outputs": [],
   "source": [
    "airport_to_city_cancelled_hour = airport_to_city_cancelled['Request_Hour'].tolist()"
   ]
  },
  {
   "cell_type": "code",
   "execution_count": 53,
   "id": "f84766b7",
   "metadata": {},
   "outputs": [
    {
     "data": {
      "image/png": "[encoded data removed]",
      "text/plain": [
       "<Figure size 432x288 with 1 Axes>"
      ]
     },
     "metadata": {
      "needs_background": "light"
     },
     "output_type": "display_data"
    }
   ],
   "source": [
    "plots(airport_to_city_cancelled_hour)"
   ]
  },
  {
   "cell_type": "code",
   "execution_count": 54,
   "id": "b6835f50",
   "metadata": {},
   "outputs": [],
   "source": [
    "airport_to_city_not_available_hour = airport_to_city_not_available['Request_Hour'].tolist()"
   ]
  },
  {
   "cell_type": "code",
   "execution_count": 55,
   "id": "4e28b40d",
   "metadata": {},
   "outputs": [
    {
     "data": {
      "image/png": "[encoded data removed]",
      "text/plain": [
       "<Figure size 432x288 with 1 Axes>"
      ]
     },
     "metadata": {
      "needs_background": "light"
     },
     "output_type": "display_data"
    }
   ],
   "source": [
    "plots(airport_to_city_not_available_hour)"
   ]
  },
  {
   "cell_type": "code",
   "execution_count": 57,
   "id": "7c741e83",
   "metadata": {},
   "outputs": [],
   "source": [
    "##conclusion\n",
    "##1. Heavy demand in the city from 4 AM to 11 PM add Codeadd Markdown\n",
    "##2. Heavy demand at the airport from 5 PM to 11 PM\n"
   ]
  },
  {
   "cell_type": "code",
   "execution_count": null,
   "id": "0c9c8d0b",
   "metadata": {},
   "outputs": [],
   "source": []
  }
 ],
 "metadata": {
  "kernelspec": {
   "display_name": "Python 3 (ipykernel)",
   "language": "python",
   "name": "python3"
  },
  "language_info": {
   "codemirror_mode": {
    "name": "ipython",
    "version": 3
   },
   "file_extension": ".py",
   "mimetype": "text/x-python",
   "name": "python",
   "nbconvert_exporter": "python",
   "pygments_lexer": "ipython3",
   "version": "3.9.7"
  }
 },
 "nbformat": 4,
 "nbformat_minor": 5
}
